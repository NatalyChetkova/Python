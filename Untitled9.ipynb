{
  "cells": [
    {
      "cell_type": "markdown",
      "metadata": {
        "id": "view-in-github",
        "colab_type": "text"
      },
      "source": [
        "<a href=\"https://colab.research.google.com/github/NatalyChetkova/Python/blob/main/Untitled9.ipynb\" target=\"_parent\"><img src=\"https://colab.research.google.com/assets/colab-badge.svg\" alt=\"Open In Colab\"/></a>"
      ]
    },
    {
      "cell_type": "markdown",
      "metadata": {
        "id": "aZDFJ2ClRh7y"
      },
      "source": [
        "Д.з.\"Введение в типы данных и циклы. Часть 1\""
      ]
    },
    {
      "cell_type": "markdown",
      "metadata": {
        "id": "qF7oZ5_rRpRZ"
      },
      "source": [
        "Задание 1\n",
        "Дана переменная, в которой хранится слово из латинских букв. Напишите код, который выводит на экран:\n",
        "среднюю букву, если число букв в слове нечетное;\n",
        "две средних буквы, если число букв четное."
      ]
    },
    {
      "cell_type": "code",
      "execution_count": null,
      "metadata": {
        "colab": {
          "base_uri": "https://localhost:8080/"
        },
        "id": "YkUsFVN0RXMO",
        "outputId": "cb366238-4857-422b-d3ca-2dc05a3d284d"
      },
      "outputs": [
        {
          "name": "stdout",
          "output_type": "stream",
          "text": [
            "i\n"
          ]
        }
      ],
      "source": [
        "word = 'veritas'\n",
        "if len(word)%2 == 1:\n",
        "    print(word[len(word)//2])\n",
        "else:\n",
        "    print(word[len(word)//2 - 1], word[-len(word)//2])"
      ]
    },
    {
      "cell_type": "code",
      "execution_count": null,
      "metadata": {
        "colab": {
          "base_uri": "https://localhost:8080/"
        },
        "id": "RKD0TQviWGvT",
        "outputId": "ebc78972-6a22-48a5-e9ed-924124f23580"
      },
      "outputs": [
        {
          "output_type": "stream",
          "name": "stdout",
          "text": [
            "t i\n"
          ]
        }
      ],
      "source": [
        "word = 'iustitia'\n",
        "if len(word)%2 == 1:\n",
        "    print(word[len(word)//2])\n",
        "else:\n",
        "    print(word[len(word)//2 - 1], word[-len(word)//2])"
      ]
    },
    {
      "cell_type": "markdown",
      "metadata": {
        "id": "xnaJit-ZgjNv"
      },
      "source": [
        "Задание 2\n",
        "Напишите программу, которая последовательно запрашивает у пользователя числа (по одному за раз) и после первого нуля выводит сумму всех ранее введенных чисел."
      ]
    },
    {
      "cell_type": "code",
      "execution_count": null,
      "metadata": {
        "colab": {
          "base_uri": "https://localhost:8080/"
        },
        "id": "wd2KYLccglS-",
        "outputId": "93b3db76-1bd8-4b65-dcc7-df2e667df8bb"
      },
      "outputs": [
        {
          "output_type": "stream",
          "name": "stdout",
          "text": [
            "Введите одно число: 0\n",
            "Результат:  0\n"
          ]
        }
      ],
      "source": [
        "my_num = int(input('Введите одно число: '))\n",
        "res = 0\n",
        "while my_num != 0:\n",
        "    res = res + my_num  \n",
        "    my_num = int(input('Введите одно число: '))\n",
        "print('Результат: ', res)"
      ]
    },
    {
      "cell_type": "markdown",
      "source": [
        "Задание 3. Мы делаем MVP dating-сервиса, и у нас есть список парней и девушек.\n",
        "Выдвигаем гипотезу: лучшие рекомендации мы получим, если просто отсортируем имена по алфавиту и познакомим людей с одинаковыми индексами после сортировки! Но мы не будем никого знакомить, если кто-то может остаться без пары"
      ],
      "metadata": {
        "id": "LED_Q4-9BXHg"
      }
    },
    {
      "cell_type": "code",
      "source": [
        "man_list = ['Ivan', 'Alex', 'Jon', 'Mikle', 'Eduard', 'Jan', 'Florian', 'Jeck']\n",
        "woman_list = ['Maria', 'Anna', 'Julia', 'Luiza', 'Elizabet', 'Stefani', 'Elza', 'Klaudia', 'Alla']\n",
        "boys = sorted(man_list)\n",
        "girls = sorted(woman_list)\n",
        "if len(boys) == len(girls):\n",
        "  couple_list = zip(boys, girls)\n",
        "  list(couple_list)\n",
        "else:\n",
        "  print('Внимание, кто-то может остаться без пары!')\n"
      ],
      "metadata": {
        "colab": {
          "base_uri": "https://localhost:8080/"
        },
        "id": "GHWUrWI9c_-1",
        "outputId": "49214498-e734-4f87-df34-605dce35b55b"
      },
      "execution_count": 1,
      "outputs": [
        {
          "output_type": "stream",
          "name": "stdout",
          "text": [
            "Внимание, кто-то может остаться без пары!\n"
          ]
        }
      ]
    },
    {
      "cell_type": "code",
      "source": [
        "man_list = ['Ivan', 'Alex', 'Jon', 'Mikle', 'Eduard', 'Jan', 'Florian', 'Jeck']\n",
        "woman_list = ['Maria', 'Anna', 'Julia', 'Luiza', 'Elizabet', 'Stefani', 'Elza', 'Klaudia']\n",
        "boys = sorted(man_list)\n",
        "girls = sorted(woman_list)\n",
        "if len(boys) == len(girls):\n",
        "  couple_list = zip(boys, girls)\n",
        "  finish_list = list(couple_list)\n",
        "  print('Идеальные пары: ')\n",
        "  for man in finish_list:\n",
        "    print(man[0], 'и', man[1])\n",
        "else:\n",
        "  print('Внимание, кто-то может остаться без пары!')"
      ],
      "metadata": {
        "colab": {
          "base_uri": "https://localhost:8080/"
        },
        "id": "w76JnZKvqUcU",
        "outputId": "664fe44f-438f-46b4-80c8-86c85ef44a8d"
      },
      "execution_count": 6,
      "outputs": [
        {
          "output_type": "stream",
          "name": "stdout",
          "text": [
            "Идеальные пары: \n",
            "Alex и Anna\n",
            "Eduard и Elizabet\n",
            "Florian и Elza\n",
            "Ivan и Julia\n",
            "Jan и Klaudia\n",
            "Jeck и Luiza\n",
            "Jon и Maria\n",
            "Mikle и Stefani\n"
          ]
        }
      ]
    },
    {
      "cell_type": "markdown",
      "source": [
        "Задание 4. У нас есть список, содержащий информацию о среднедневной температуре в Фаренгейтах за произвольный период по странам (структура данных в примере). Необходимо написать код, который рассчитает среднюю температуру за период в Цельсиях(!) для каждой страны.\n",
        "\n",
        "Результат:\n",
        "\n",
        "Средняя температура в странах:\n",
        "Thailand - 23.9 С\n",
        "Germany - 13.8 С\n",
        "Russia - 3.7 С\n",
        "Poland - 12.0 С"
      ],
      "metadata": {
        "id": "H0m3NuNhnBLX"
      }
    },
    {
      "cell_type": "code",
      "source": [
        "countries_temperature = [\n",
        "['Thailand', [75.2, 77, 78.8, 73.4, 68, 75.2, 77]],\n",
        "['Germany', [57.2, 55.4, 59, 59, 53.6]],\n",
        "['Russia', [35.6, 37.4, 39.2, 41, 42.8, 39.2, 35.6]],\n",
        "['Poland', [50, 50, 53.6, 57.2, 55.4, 55.4]]\n",
        "]\n",
        "print('Средняя температура в странах: ')\n",
        "for man in countries_temperature:\n",
        "    print(man[0], '-', round(5/9 * (sum(man[1])/len(man[1])-32), 1), 'C')"
      ],
      "metadata": {
        "colab": {
          "base_uri": "https://localhost:8080/"
        },
        "id": "Np4IjEqGPTGB",
        "outputId": "a29eb72c-e610-46be-b297-f4398203825d"
      },
      "execution_count": 22,
      "outputs": [
        {
          "output_type": "stream",
          "name": "stdout",
          "text": [
            "Средняя температура в странах: \n",
            "Thailand - 23.9 C\n",
            "Germany - 13.8 C\n",
            "Russia - 3.7 C\n",
            "Poland - 12.0 C\n"
          ]
        }
      ]
    }
  ],
  "metadata": {
    "colab": {
      "name": "Untitled9.ipynb",
      "provenance": [],
      "authorship_tag": "ABX9TyMtYehmG4hy2Wz3TNFA5qug",
      "include_colab_link": true
    },
    "kernelspec": {
      "display_name": "Python 3",
      "name": "python3"
    },
    "language_info": {
      "name": "python"
    }
  },
  "nbformat": 4,
  "nbformat_minor": 0
}